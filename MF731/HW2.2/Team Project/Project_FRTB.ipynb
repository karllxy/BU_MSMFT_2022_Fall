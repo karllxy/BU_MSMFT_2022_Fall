{
 "cells": [
  {
   "cell_type": "markdown",
   "id": "36df779c",
   "metadata": {
    "id": "36df779c"
   },
   "source": [
    "## MF731 Capital Charge and Allocation under FRTB\n",
    "### Nov 27, 2022\n",
    "#### Haoran Chen, Pei Zhu, Xueyi Wang, Xuyang Liu"
   ]
  },
  {
   "cell_type": "code",
   "execution_count": 1,
   "id": "2e57d589",
   "metadata": {
    "id": "2e57d589"
   },
   "outputs": [],
   "source": [
    "# import packages\n",
    "import numpy as np\n",
    "import pandas as pd"
   ]
  },
  {
   "cell_type": "markdown",
   "id": "4027881a",
   "metadata": {},
   "source": [
    "1. Consider a portfolio of TWO risk positions. Each risk position can be thought as one asset, which has exposure to all different _risk factors_ $RF_i$, $i = 1, . . . , 5$, and different _liquidity horizons_ $LH_j$, $j = 1, . . . , 5$:\n",
    "\n",
    "$$ \\{RF_i: 1 ≤ i ≤ 5\\} =\\{CM, CR, EQ, FX,IR\\}, $$\n",
    "\n",
    "$$ \\{LH_j: 1 ≤ j ≤ 5\\} =\\{10, 20, 40, 60, 120 days\\}. $$"
   ]
  },
  {
   "cell_type": "code",
   "execution_count": 2,
   "id": "93a446cc",
   "metadata": {
    "id": "93a446cc"
   },
   "outputs": [],
   "source": [
    "# different liquidity horizons\n",
    "LH = np.array([10,20,40,60,120])"
   ]
  },
  {
   "cell_type": "markdown",
   "id": "103ede86",
   "metadata": {},
   "source": [
    "2. Suppose that the $10$ days loss of risk position $n$, attributed to $RF_i$ and $LH_j$, is denoted by $\\tilde{X}_n(i, j)$, for $n = 1, 2$, $1 ≤ i$, $j ≤ 5$. \n",
    "\n",
    "Assume that $\\tilde{X}_1(i, j) ∼ N(0.004, 0.04)$ and $\\tilde{X}_2(i, j) ∼ N(0.006, 0.05)$, \n",
    "\n",
    "where $0.04$ and $0.05$ are the standard deviation of these normal distributions. The correlation between any two different $\\tilde{X}_1(i, j)$ and $\\tilde{X}_1(k, l)$ is assumed to be $0.3$. The correlation between any two different $\\tilde{X}_2(i, j)$ and $\\tilde{X}_2(k, l)$ is assumed to be $0.1$. $\\tilde{X}_1(k, l)$ and $\\tilde{X}_2(k, l)$ are assumed to be independent."
   ]
  },
  {
   "cell_type": "code",
   "execution_count": 3,
   "id": "3eec216c",
   "metadata": {
    "id": "3eec216c"
   },
   "outputs": [],
   "source": [
    "# (2) Simulate 10 days loss of risk position\n",
    "def simulate_xij(mu,sigma,pho):\n",
    "    z = np.random.normal(0,1)\n",
    "    Xij = (np.sqrt(pho)*z + np.sqrt(1-pho)*np.random.normal(0,1,[5,5]))*sigma+mu\n",
    "    return Xij"
   ]
  },
  {
   "cell_type": "markdown",
   "id": "14998d94",
   "metadata": {},
   "source": [
    "3. The total loss of the risk position $n$ is\n",
    "$$\\tilde{X}_n = \\sum_{i,j}^{5}\\tilde{X}_n(i, j),\\quad n = 1, 2.$$\n",
    "\n",
    "The total loss of the portfolio is\n",
    "$$\\tilde{X} = \\tilde{X}_1 + \\tilde{X}_2.$$"
   ]
  },
  {
   "cell_type": "code",
   "execution_count": 4,
   "id": "257ea0fe",
   "metadata": {},
   "outputs": [],
   "source": [
    "def simulate_x(mu,sigma,pho,n):\n",
    "    X_list = np.array([])\n",
    "    for i in range(n):\n",
    "        Xij = simulate_xij(mu,sigma,pho)\n",
    "        X = np.sum(Xij)\n",
    "        X_list = np.append(X_list,X)\n",
    "    return X_list"
   ]
  },
  {
   "cell_type": "code",
   "execution_count": 5,
   "id": "9dc83da4",
   "metadata": {
    "id": "9dc83da4"
   },
   "outputs": [],
   "source": [
    "n = 10000\n",
    "X1 = simulate_x(0.004,0.04,0.3,n)\n",
    "X2 = simulate_x(0.006,0.05,0.1,n)\n",
    "Xlist = X1 + X2"
   ]
  },
  {
   "cell_type": "markdown",
   "id": "2a85a665",
   "metadata": {},
   "source": [
    "4. **(Standard VaR and ES)** Use the simulation method to calculate the $VaR_{0.99}$ and $ES_{0.975}$ for the $10$ days loss of the portfolio. To simulate different $\\tilde{X}_1(i, j)$ with pair correlation $0.3$, we can set\n",
    "\n",
    "$$ \\frac{\\tilde{X}_1(i, j)-0.004}{0.04} = \\sqrt{0.3}Z + \\sqrt{0.7}Z(i,j)$$\n",
    "\n",
    "where $Z$ and $\\{Z_{i,j}\\}_{1≤i,j≤5}$ are all independent standard normal random variables. Similar method can be used to simulate $\\tilde{X}_2(i, j)$."
   ]
  },
  {
   "cell_type": "code",
   "execution_count": 6,
   "id": "702347ef",
   "metadata": {},
   "outputs": [],
   "source": [
    "VaR1 = np.quantile(X1,0.99)\n",
    "VaR2 = np.quantile(X2,0.99)"
   ]
  },
  {
   "cell_type": "code",
   "execution_count": 7,
   "id": "6eb266cc",
   "metadata": {
    "id": "6eb266cc"
   },
   "outputs": [],
   "source": [
    "def ES(x,alpha=0.975):\n",
    "    return 1/(1-alpha) * np.sum(x[x>=np.quantile(x,alpha)])/n"
   ]
  },
  {
   "cell_type": "code",
   "execution_count": 8,
   "id": "2568c764",
   "metadata": {
    "id": "2568c764"
   },
   "outputs": [
    {
     "data": {
      "text/plain": [
       "(1.4336537005075556,\n",
       " 1.2316109069196408,\n",
       " 1.4465213740330123,\n",
       " 1.2379846917409074)"
      ]
     },
     "execution_count": 8,
     "metadata": {},
     "output_type": "execute_result"
    }
   ],
   "source": [
    "ES1 = ES(X1)\n",
    "ES2 = ES(X2)\n",
    "VaR1,VaR2,ES1,ES2"
   ]
  },
  {
   "cell_type": "code",
   "execution_count": 9,
   "id": "9621a8e8",
   "metadata": {
    "colab": {
     "base_uri": "https://localhost:8080/"
    },
    "id": "9621a8e8",
    "outputId": "9f4586cf-fc95-4f7c-e346-c4dcb8b49746"
   },
   "outputs": [
    {
     "name": "stdout",
     "output_type": "stream",
     "text": [
      "The 𝑉𝑎𝑅 0.99 for the 10 days loss of the portfolio is 1.9575005801431595\n",
      "The 𝐸𝑆 0.975 for the 10 days loss of the portfolio is 1.9543025075812748\n"
     ]
    }
   ],
   "source": [
    "# (4) Calculate the VaR_0.99 andES_0.975 for the 10 days loss of the portfolio\n",
    "print(\"The 𝑉𝑎𝑅 0.99 for the 10 days loss of the portfolio is\",np.quantile(Xlist,0.99))\n",
    "print(\"The 𝐸𝑆 0.975 for the 10 days loss of the portfolio is\",ES(Xlist))"
   ]
  },
  {
   "cell_type": "markdown",
   "id": "a6cb4abc",
   "metadata": {},
   "source": [
    "5. **(VaR and ES allocations)** For each simulation of $\\tilde{X}_n(i, j)$, we have a simulation of $\\tilde{X}_1$,$\\tilde{X}_2$, and $\\tilde{X}$. Using these simulations to compute Euler allocations for $VaR$ and $ES$:\n",
    "\n",
    "• Among all simulations, find those with $\\tilde{X}$ ∈ ($VaR_{0.99} − \\epsilon, VaR_{0.99} + \\epsilon $), for a small $\\epsilon$. Take average of $\\tilde{X}_1$ and $\\tilde{X}_2$ for these simulations. They are Euler allocations of $VaR_{0.99}$ for the risk position 1 and 2, respectively.\n",
    "\n",
    "• Among all simulation, find those with $\\tilde{X} ≥ VaR_{0.975}$. Take average of $\\tilde{X}_1$ and $\\tilde{X}_2$ for these simulations. They are Euler allocations of $ES_{0.975}$ for the risk position 1 and 2, respectively."
   ]
  },
  {
   "cell_type": "code",
   "execution_count": 10,
   "id": "62d8a42e",
   "metadata": {},
   "outputs": [],
   "source": [
    "# (5) Set error as 0.001 \n",
    "def var_alloc(X,error,VaR):\n",
    "    C1 = np.where(Xlist >= VaR - error ) \n",
    "    C2 = np.where(Xlist <= VaR + error)\n",
    "    C = np.intersect1d(C1,C2)\n",
    "    return np.mean(X[C])\n",
    "\n",
    "def es_alloc(X,VaR):\n",
    "    C = np.where(Xlist >= VaR) \n",
    "    return np.mean(X[C])"
   ]
  },
  {
   "cell_type": "code",
   "execution_count": 11,
   "id": "7a1d0e7d",
   "metadata": {},
   "outputs": [
    {
     "name": "stdout",
     "output_type": "stream",
     "text": [
      "Euler allocations for 𝑉𝑎𝑅 0.99 of 𝑋̃1 is 1.4029856783987258\n",
      "Euler allocations for 𝑉𝑎𝑅 0.99 of 𝑋̃2 is 0.5544034434406837\n",
      "Euler allocations for 𝐸𝑆 0.975 of 𝑋̃1 is 1.1240955766513272\n",
      "Euler allocations for 𝐸𝑆 0.975 of 𝑋̃2 is 0.8302069309299489\n"
     ]
    }
   ],
   "source": [
    "# Then the VaR and ES allocation shoule be:\n",
    "error = 0.001\n",
    "print(\"Euler allocations for 𝑉𝑎𝑅 0.99 of 𝑋̃1 is\", var_alloc(X1,error,np.quantile(Xlist,0.99)))\n",
    "print(\"Euler allocations for 𝑉𝑎𝑅 0.99 of 𝑋̃2 is\", var_alloc(X2,error,np.quantile(Xlist,0.99)))\n",
    "print(\"Euler allocations for 𝐸𝑆 0.975 of 𝑋̃1 is\", es_alloc(X1,np.quantile(Xlist,0.975)))\n",
    "print(\"Euler allocations for 𝐸𝑆 0.975 of 𝑋̃2 is\", es_alloc(X2,np.quantile(Xlist,0.975)))"
   ]
  },
  {
   "cell_type": "markdown",
   "id": "03c9de2d",
   "metadata": {},
   "source": [
    "6. In FRTB, the liquidity horizon adjusted loss for risk position $n$ is\n",
    "\n",
    "$$X_n(i, j) = \\sqrt{ \\frac{LH_j −LH_{j−1}}{10} }\\sum^5_{k=j}\\tilde{X}_n(i, k),\\quad 1 ≤ i, j ≤ 5.$$\n",
    "\n",
    "The liquidity horizon adjusted loss for the portfolio is\n",
    "\n",
    "$$X(i, j) = X_1(i, j) + X_2(i, j),\\quad 1 ≤ i, j ≤ 5.$$"
   ]
  },
  {
   "cell_type": "code",
   "execution_count": 12,
   "id": "f95a9475",
   "metadata": {
    "id": "f95a9475"
   },
   "outputs": [],
   "source": [
    "# (6) FRTB liquidity horizon adjusted loss for risk position\n",
    "def adj_loss(mu,sigma,pho):\n",
    "    Xij = simulate_xij(mu,sigma,pho)\n",
    "    Xn = np.zeros((5,5))\n",
    "    lh = np.append(0,LH)\n",
    "    for i in range(5):\n",
    "        for j in range(5):\n",
    "            Xn[i,j] = np.sqrt((lh[j+1]-lh[j])/10)*np.sum(Xij[i,j:])\n",
    "    return Xn\n",
    "\n",
    "# Re-simulate n times adjusted X\n",
    "def simulate_nX(n):\n",
    "    Xlist = []\n",
    "    X1 = []\n",
    "    X2 = []\n",
    "    for i in range(n):\n",
    "        X1n = adj_loss(0.004,0.04,0.3)\n",
    "        X2n = adj_loss(0.006,0.05,0.1)\n",
    "        Xn = X1n+X2n\n",
    "        X1.append(X1n)\n",
    "        X2.append(X2n)\n",
    "        Xlist.append(Xn)\n",
    "    return Xlist,X1,X2"
   ]
  },
  {
   "cell_type": "markdown",
   "id": "446d2b63",
   "metadata": {},
   "source": [
    "7. **(FRTB ES)** For each $i = 1, . . . , 5$, the FRTB expected shortfall for portfolio loss attributed to $RF_i$ is\n",
    "\n",
    "$$ES(X(i)) =\\sqrt{ \\sum^{5}_{j=1} ES_{0.975}(X(i, j))^2}.$$\n",
    "\n",
    "Denote the previous expected shortfall as $ES^{F,C}(X(i))$."
   ]
  },
  {
   "cell_type": "code",
   "execution_count": 13,
   "id": "c8d6f371",
   "metadata": {
    "colab": {
     "base_uri": "https://localhost:8080/"
    },
    "id": "c8d6f371",
    "outputId": "b8e14966-baf8-4a59-eb91-0a2a5bad40c1"
   },
   "outputs": [],
   "source": [
    "# (7) Calaclate ES of FRTB\n",
    "def FRTB_ES(X):\n",
    "    newX = np.zeros((5,5))\n",
    "    for i in range(5):\n",
    "        for j in range(5):\n",
    "            s = np.array([])\n",
    "            for k in range(len(X)):\n",
    "                s = np.append(s,X[k][i,j])\n",
    "            #newX[i,j] = ES(s) # Same results as the line below\n",
    "            newX[i,j] = np.mean(s[s[:]>=np.quantile(s,0.975)])\n",
    "    return np.sqrt(np.sum(newX**2,1)),newX"
   ]
  },
  {
   "cell_type": "code",
   "execution_count": 14,
   "id": "0af45094",
   "metadata": {},
   "outputs": [
    {
     "name": "stdout",
     "output_type": "stream",
     "text": [
      "The previous expected shortfall is [0.96487921 0.9522721  0.94392673 0.9562566  0.96226636]\n"
     ]
    }
   ],
   "source": [
    "adj_X,adj_X1,adj_X2 = simulate_nX(n)\n",
    "FC_ES,tol_ES = FRTB_ES(adj_X)\n",
    "print(\"The previous expected shortfall is\",FC_ES)"
   ]
  },
  {
   "cell_type": "markdown",
   "id": "3c67af45",
   "metadata": {},
   "source": [
    "8. **(FRTB ES capital charge)** Assume that $ES^{R,S}(X(i))/ES^{R,C}(X(i)) = 2$ for all $1 ≤ i ≤ 5$. (In practice, this ratio is calculated using the loss data in the stress period and in the current 12 months.) The FRTB ES capital charge for $RF_i$ is\n",
    "\n",
    "$$ IMCC(X(i)) = \\frac{ ES^{R,S}(X(i))}{ ES^{R,C}(X(i))} ES^{F,C}(X(i)), 1 ≤ i ≤ 5.$$"
   ]
  },
  {
   "cell_type": "code",
   "execution_count": 15,
   "id": "ff417b24",
   "metadata": {
    "colab": {
     "base_uri": "https://localhost:8080/"
    },
    "id": "ff417b24",
    "outputId": "1e31ffd7-a4b1-4827-fdff-86718bdba65d"
   },
   "outputs": [
    {
     "name": "stdout",
     "output_type": "stream",
     "text": [
      "The FRTB ES capital charge is [1.92975842 1.9045442  1.88785346 1.9125132  1.92453272]\n"
     ]
    }
   ],
   "source": [
    "# (8) FRTB ES capital charge\n",
    "IMCC_Xi = 2 * FC_ES\n",
    "print(\"The FRTB ES capital charge is\",IMCC_Xi)"
   ]
  },
  {
   "cell_type": "markdown",
   "id": "f381cc64",
   "metadata": {},
   "source": [
    "9. For the risk position $n$, the unconstrained portfolio with $LH_j$ is\n",
    "\n",
    "$$X_n(6, j) = \\sum^{5}_{i=1} X_n(i, j), \\quad 1 ≤ j ≤ 5.$$\n",
    "\n",
    "For the portfolio, the unconstrained portfolio with $LH_j$ is\n",
    "\n",
    "$$X(6, j) = X_1(6, j) + X_2(6, j).$$\n",
    "\n",
    "$IMCC(X(6))$ is calculated similarly as in item 7 and 8 with $i = 6$."
   ]
  },
  {
   "cell_type": "code",
   "execution_count": 16,
   "id": "4705e4d1",
   "metadata": {
    "colab": {
     "base_uri": "https://localhost:8080/"
    },
    "id": "4705e4d1",
    "outputId": "afe937e5-df66-452e-ac1a-fbcfe5f97cc5"
   },
   "outputs": [
    {
     "name": "stdout",
     "output_type": "stream",
     "text": [
      "The 𝐼𝑀𝐶𝐶(𝑋(6)) is 7.0309539776713565\n"
     ]
    }
   ],
   "source": [
    "# (9) Unconstrained portfolio with LH\n",
    "def unconst_ES(X,n):\n",
    "    unX = np.zeros((n,5))\n",
    "    newES = np.zeros(5)\n",
    "    for k in range(n):\n",
    "        unX[k,:] = np.sum(X[k],0)\n",
    "    for j in range(5):\n",
    "        s = np.array([])\n",
    "        for k in range(len(unX)):\n",
    "            s = np.append(s,unX[k][j])\n",
    "        newES[j] = np.mean(s[s[:]>=np.quantile(s,0.975)]) #ES(s)\n",
    "    return np.sqrt(np.sum(newES**2)),newES\n",
    "\n",
    "ES_X6,arrEuler = unconst_ES(adj_X,n)\n",
    "IMCC_X6 = 2*ES_X6\n",
    "print(\"The 𝐼𝑀𝐶𝐶(𝑋(6)) is\",IMCC_X6)"
   ]
  },
  {
   "cell_type": "markdown",
   "id": "766a6919",
   "metadata": {},
   "source": [
    "10. **(FRTB capital charge for modellable risk factors)** For the portfolio loss $X$, its aggregate capital charge for modellable risk factors is\n",
    "\n",
    "$$ IMCC(X) = 0.5 IMCC(X(6)) + 0.5 \\sum^{5}_{i=1} IMCC(X(i)).$$"
   ]
  },
  {
   "cell_type": "code",
   "execution_count": 17,
   "id": "695e857a",
   "metadata": {
    "colab": {
     "base_uri": "https://localhost:8080/"
    },
    "id": "695e857a",
    "outputId": "8bd7d545-1fa0-44bc-b03a-e357cc627f9b"
   },
   "outputs": [
    {
     "name": "stdout",
     "output_type": "stream",
     "text": [
      "The aggregate capital charge for modellable risk factors is 8.295077988405822\n"
     ]
    }
   ],
   "source": [
    "# (10) FRTB capital charge for modellable risk factors\n",
    "IMCC = 0.5*IMCC_X6 + 0.5*np.sum(IMCC_Xi)\n",
    "print(\"The aggregate capital charge for modellable risk factors is\",IMCC)"
   ]
  },
  {
   "cell_type": "markdown",
   "id": "eaf5e690",
   "metadata": {},
   "source": [
    "12. **(FRTB Euler allocation of $X(i, j)$)** For each $i, j$, use the simulations of $\\tilde{X}_n(i, j)$ in item 2 to simulate $X_1(i, j)$, $X_2(i, j)$, and $X(i, j)$ in item 6. Calculate $VaR_{0.975}(X(i, j))$. Find all simulations with $X(i, j) ≥ VaR_{0.975}(X(i, j))$. Among all these simulations, calculate the average of $X_1(i, j)$ and $X_2(i, j)$. They are Euler allocation of $X(i, j)$. We denote them as $ES(X_1(i, j)|X(i, j))$ and $ES(X_2(i, j)|X(i, j))$."
   ]
  },
  {
   "cell_type": "code",
   "execution_count": 18,
   "id": "7d65a52a",
   "metadata": {},
   "outputs": [],
   "source": [
    "# (12) FRTB Euler allocation of X(i,j)\n",
    "def Euler_ES(X,tX):\n",
    "    newES = np.zeros((5,5))\n",
    "    for i in range(5):\n",
    "        for j in range(5):\n",
    "            s = np.array([])\n",
    "            ts = np.array([])\n",
    "            for k in range(len(X)):\n",
    "                s = np.append(s,X[k][i,j])\n",
    "                ts = np.append(ts,tX[k][i,j])\n",
    "            var = np.quantile(s,0.975)\n",
    "            newES[i,j] = np.mean(ts[s[:]>=var])\n",
    "    return newES"
   ]
  },
  {
   "cell_type": "code",
   "execution_count": 19,
   "id": "3e3510a7",
   "metadata": {},
   "outputs": [],
   "source": [
    "Euler_ES1 = Euler_ES(adj_X,adj_X1)\n",
    "Euler_ES2 = Euler_ES(adj_X,adj_X2)"
   ]
  },
  {
   "cell_type": "markdown",
   "id": "8f49a954",
   "metadata": {},
   "source": [
    "$ES(X_1(i, j)|X(i, j)):$"
   ]
  },
  {
   "cell_type": "code",
   "execution_count": 20,
   "id": "1cd58e6a",
   "metadata": {},
   "outputs": [
    {
     "data": {
      "text/plain": [
       "array([[0.23654151, 0.19869192, 0.2162014 , 0.15656567, 0.16702301],\n",
       "       [0.2364705 , 0.19763232, 0.21273252, 0.15398708, 0.15694212],\n",
       "       [0.22688353, 0.19221149, 0.20840142, 0.15301951, 0.16012753],\n",
       "       [0.23375018, 0.19291366, 0.21034905, 0.14536061, 0.1495991 ],\n",
       "       [0.24918584, 0.20193303, 0.21846726, 0.1518283 , 0.14907566]])"
      ]
     },
     "execution_count": 20,
     "metadata": {},
     "output_type": "execute_result"
    }
   ],
   "source": [
    "Euler_ES1"
   ]
  },
  {
   "cell_type": "markdown",
   "id": "49915939",
   "metadata": {},
   "source": [
    "$ES(X_2(i, j)|X(i, j)):$"
   ]
  },
  {
   "cell_type": "code",
   "execution_count": 21,
   "id": "1bf1fdfc",
   "metadata": {},
   "outputs": [
    {
     "data": {
      "text/plain": [
       "array([[0.25706179, 0.22067556, 0.26396481, 0.20137376, 0.22387129],\n",
       "       [0.25696171, 0.21392934, 0.25543738, 0.197455  , 0.2319913 ],\n",
       "       [0.25072536, 0.21118575, 0.25522982, 0.20193434, 0.23888618],\n",
       "       [0.25758103, 0.22059549, 0.25477045, 0.20949027, 0.2501198 ],\n",
       "       [0.24554108, 0.21552513, 0.25920615, 0.20512217, 0.23995516]])"
      ]
     },
     "execution_count": 21,
     "metadata": {},
     "output_type": "execute_result"
    }
   ],
   "source": [
    "Euler_ES2"
   ]
  },
  {
   "cell_type": "markdown",
   "id": "6bf4fc61",
   "metadata": {},
   "source": [
    "13. For each $1 ≤ i ≤ 5$, use the results in item 7 and 12 to calculate \n",
    "\n",
    "$$ES(X_n(i, j)|X(i)) = \\frac{ES(X(i, j))}{ES(X(i))} ES(X_n(i, j)|X(i, j)), \\quad n = 1, 2, j = 1, . . . , 5.$$"
   ]
  },
  {
   "cell_type": "code",
   "execution_count": 22,
   "id": "905603ec",
   "metadata": {},
   "outputs": [],
   "source": [
    "# (13) Use given formula to calculate \n",
    "Euler_FC_ES1 = Euler_ES1*tol_ES/FC_ES.reshape(5,1)\n",
    "Euler_FC_ES2 = Euler_ES2*tol_ES/FC_ES.reshape(5,1)"
   ]
  },
  {
   "cell_type": "markdown",
   "id": "ddfda8dd",
   "metadata": {},
   "source": [
    "$ES(X_1(i, j)|X(i)):$"
   ]
  },
  {
   "cell_type": "code",
   "execution_count": 23,
   "id": "78457880",
   "metadata": {},
   "outputs": [
    {
     "data": {
      "text/plain": [
       "array([[0.12100755, 0.08635789, 0.1075913 , 0.05808087, 0.06766478],\n",
       "       [0.12253027, 0.08541454, 0.10458667, 0.05682992, 0.06409936],\n",
       "       [0.11479873, 0.08214365, 0.10236113, 0.0575414 , 0.0676886 ],\n",
       "       [0.12010245, 0.08342067, 0.10231296, 0.0539409 , 0.062533  ],\n",
       "       [0.12811312, 0.08760422, 0.10844815, 0.05632036, 0.0602692 ]])"
      ]
     },
     "execution_count": 23,
     "metadata": {},
     "output_type": "execute_result"
    }
   ],
   "source": [
    "Euler_FC_ES1"
   ]
  },
  {
   "cell_type": "markdown",
   "id": "52d2e182",
   "metadata": {},
   "source": [
    "$ES(X_2(i, j)|X(i)):$"
   ]
  },
  {
   "cell_type": "code",
   "execution_count": 24,
   "id": "a6ef8321",
   "metadata": {},
   "outputs": [
    {
     "data": {
      "text/plain": [
       "array([[0.13150511, 0.09591268, 0.13136047, 0.07470325, 0.0906953 ],\n",
       "       [0.13314806, 0.09245794, 0.12558185, 0.07287203, 0.09475146],\n",
       "       [0.12686224, 0.0902525 , 0.12536197, 0.07593531, 0.10098121],\n",
       "       [0.1323469 , 0.09539098, 0.12391936, 0.07773835, 0.10455103],\n",
       "       [0.12623925, 0.09350085, 0.12867111, 0.07608959, 0.09701051]])"
      ]
     },
     "execution_count": 24,
     "metadata": {},
     "output_type": "execute_result"
    }
   ],
   "source": [
    "Euler_FC_ES2"
   ]
  },
  {
   "cell_type": "markdown",
   "id": "bbaf646d",
   "metadata": {},
   "source": [
    "Check that\n",
    "\n",
    "$$\\sum^{2}_{n=1}\\sum^{5}_{j=1}ES(X_n(i, j)|X(i)) = ES(X(i)).$$\n",
    "\n",
    "Denote $ES(X_n(i, j)|X(i))$ as $ES^{F,C}(X_n(i, j)|X(i))$."
   ]
  },
  {
   "cell_type": "code",
   "execution_count": 25,
   "id": "80aefae1",
   "metadata": {},
   "outputs": [
    {
     "data": {
      "text/plain": [
       "array([0.96487921, 0.9522721 , 0.94392673, 0.9562566 , 0.96226636])"
      ]
     },
     "execution_count": 25,
     "metadata": {},
     "output_type": "execute_result"
    }
   ],
   "source": [
    "Euler_FC_ES = np.sum(Euler_FC_ES1,1) + np.sum(Euler_FC_ES2,1)\n",
    "Euler_FC_ES"
   ]
  },
  {
   "cell_type": "code",
   "execution_count": 26,
   "id": "49723353",
   "metadata": {},
   "outputs": [
    {
     "data": {
      "text/plain": [
       "array([0.96487921, 0.9522721 , 0.94392673, 0.9562566 , 0.96226636])"
      ]
     },
     "execution_count": 26,
     "metadata": {},
     "output_type": "execute_result"
    }
   ],
   "source": [
    "# Check if the results same\n",
    "FC_ES # Same as Euler_FC_ES"
   ]
  },
  {
   "cell_type": "markdown",
   "id": "21f54c75",
   "metadata": {},
   "source": [
    "14. Follow the same method as in item 13, calculate $ES^{F,C}(X_n(6, j)|X(6))$"
   ]
  },
  {
   "cell_type": "code",
   "execution_count": 27,
   "id": "ba9d1f78",
   "metadata": {
    "colab": {
     "base_uri": "https://localhost:8080/"
    },
    "id": "ba9d1f78",
    "outputId": "049a1654-c252-49ee-a53d-57c2fdf3c449"
   },
   "outputs": [],
   "source": [
    "# (14) Use the same method metioned in 13 to calculate ES_X6\n",
    "def const_ES(tX,X,n):\n",
    "    cX = np.zeros((n,5))\n",
    "    ctX = np.zeros((n,5))\n",
    "    newES = np.zeros(5)\n",
    "    for k in range(n):\n",
    "        cX[k,:] = np.sum(X[k],0)\n",
    "        ctX[k,:] = np.sum(tX[k],0)\n",
    "    for j in range(5):\n",
    "        s = np.array([])\n",
    "        ts = np.array([])\n",
    "        for k in range(len(cX)):\n",
    "            s = np.append(s,cX[k][j])\n",
    "            ts = np.append(ts,ctX[k][j])\n",
    "        var = np.quantile(s,0.975)\n",
    "        newES[j] = np.mean(ts[s[:]>=var])\n",
    "    return np.sqrt(np.sum(newES**2)),newES"
   ]
  },
  {
   "cell_type": "code",
   "execution_count": 28,
   "id": "a51a8f0c",
   "metadata": {},
   "outputs": [],
   "source": [
    "Euler1,arrEuler1 = const_ES(adj_X1,adj_X,n)\n",
    "Euler2,arrEuler2 = const_ES(adj_X2,adj_X,n)"
   ]
  },
  {
   "cell_type": "code",
   "execution_count": 29,
   "id": "f31530c1",
   "metadata": {},
   "outputs": [],
   "source": [
    "IMCC1_6 = arrEuler1*arrEuler/ES_X6\n",
    "IMCC2_6 = arrEuler2*arrEuler/ES_X6"
   ]
  },
  {
   "cell_type": "markdown",
   "id": "b187b6a5",
   "metadata": {},
   "source": [
    "$ES^{F,C}(X_1(6, j)|X(6)):$"
   ]
  },
  {
   "cell_type": "code",
   "execution_count": 30,
   "id": "1526429d",
   "metadata": {},
   "outputs": [
    {
     "data": {
      "text/plain": [
       "array([0.64249509, 0.42411612, 0.48821025, 0.23342908, 0.20415393])"
      ]
     },
     "execution_count": 30,
     "metadata": {},
     "output_type": "execute_result"
    }
   ],
   "source": [
    "IMCC1_6"
   ]
  },
  {
   "cell_type": "markdown",
   "id": "b68551c5",
   "metadata": {},
   "source": [
    "$ES^{F,C}(X_2(6, j)|X(6)):$"
   ]
  },
  {
   "cell_type": "code",
   "execution_count": 31,
   "id": "9f4601b0",
   "metadata": {},
   "outputs": [
    {
     "data": {
      "text/plain": [
       "array([0.44607335, 0.30573963, 0.37378004, 0.18831205, 0.20916744])"
      ]
     },
     "execution_count": 31,
     "metadata": {},
     "output_type": "execute_result"
    }
   ],
   "source": [
    "IMCC2_6"
   ]
  },
  {
   "cell_type": "code",
   "execution_count": 32,
   "id": "c950849c",
   "metadata": {},
   "outputs": [
    {
     "data": {
      "text/plain": [
       "3.5154769888356787"
      ]
     },
     "execution_count": 32,
     "metadata": {},
     "output_type": "execute_result"
    }
   ],
   "source": [
    "# Check\n",
    "np.sum(IMCC1_6) + np.sum(IMCC2_6)"
   ]
  },
  {
   "cell_type": "code",
   "execution_count": 33,
   "id": "39f97487",
   "metadata": {},
   "outputs": [
    {
     "data": {
      "text/plain": [
       "3.5154769888356783"
      ]
     },
     "execution_count": 33,
     "metadata": {},
     "output_type": "execute_result"
    }
   ],
   "source": [
    "ES_X6 # Same"
   ]
  },
  {
   "cell_type": "markdown",
   "id": "ad4dd4aa",
   "metadata": {},
   "source": [
    "15. **(Euler allocation of IMCC)** Use the assumption in item 8, calculate\n",
    "\n",
    "$$ IMCC(X_n(i, j)|X(i)) = 0.5 \\frac{ES^{R,S}(X(i))}{ES^{R,C}(X(i))} ES^{F,C}(Xn(i, j)|X(i)),$$\n",
    "\n",
    "for $i = 1, . . . , 6$ and $j = 1, . . . , 5$."
   ]
  },
  {
   "cell_type": "code",
   "execution_count": 34,
   "id": "_pnVjWBk2nKx",
   "metadata": {
    "id": "_pnVjWBk2nKx"
   },
   "outputs": [],
   "source": [
    "# (15) Euler allocation of IMCC\n",
    "Euler_IMCC1 = np.append(Euler_FC_ES1,IMCC1_6).reshape(6,5)\n",
    "Euler_IMCC2 = np.append(Euler_FC_ES2,IMCC2_6).reshape(6,5)"
   ]
  },
  {
   "cell_type": "markdown",
   "id": "ac9b7ceb",
   "metadata": {},
   "source": [
    "$ IMCC(X_1(i, j)|X(i)):$"
   ]
  },
  {
   "cell_type": "code",
   "execution_count": 35,
   "id": "43b1801c",
   "metadata": {},
   "outputs": [
    {
     "data": {
      "text/plain": [
       "array([[0.12100755, 0.08635789, 0.1075913 , 0.05808087, 0.06766478],\n",
       "       [0.12253027, 0.08541454, 0.10458667, 0.05682992, 0.06409936],\n",
       "       [0.11479873, 0.08214365, 0.10236113, 0.0575414 , 0.0676886 ],\n",
       "       [0.12010245, 0.08342067, 0.10231296, 0.0539409 , 0.062533  ],\n",
       "       [0.12811312, 0.08760422, 0.10844815, 0.05632036, 0.0602692 ],\n",
       "       [0.64249509, 0.42411612, 0.48821025, 0.23342908, 0.20415393]])"
      ]
     },
     "execution_count": 35,
     "metadata": {},
     "output_type": "execute_result"
    }
   ],
   "source": [
    "Euler_IMCC1"
   ]
  },
  {
   "cell_type": "markdown",
   "id": "37b8cd3a",
   "metadata": {},
   "source": [
    "$ IMCC(X_2(i, j)|X(i)):$"
   ]
  },
  {
   "cell_type": "code",
   "execution_count": 36,
   "id": "0064ec51",
   "metadata": {
    "scrolled": true
   },
   "outputs": [
    {
     "data": {
      "text/plain": [
       "array([[0.13150511, 0.09591268, 0.13136047, 0.07470325, 0.0906953 ],\n",
       "       [0.13314806, 0.09245794, 0.12558185, 0.07287203, 0.09475146],\n",
       "       [0.12686224, 0.0902525 , 0.12536197, 0.07593531, 0.10098121],\n",
       "       [0.1323469 , 0.09539098, 0.12391936, 0.07773835, 0.10455103],\n",
       "       [0.12623925, 0.09350085, 0.12867111, 0.07608959, 0.09701051],\n",
       "       [0.44607335, 0.30573963, 0.37378004, 0.18831205, 0.20916744]])"
      ]
     },
     "execution_count": 36,
     "metadata": {},
     "output_type": "execute_result"
    }
   ],
   "source": [
    "Euler_IMCC2"
   ]
  },
  {
   "cell_type": "markdown",
   "id": "a71248ec",
   "metadata": {},
   "source": [
    "16. For each $i = 1, . . . , 6$, calculate\n",
    "\n",
    "$$IMCC(\\tilde{X}_n(i, k)|X_n(i, j)) = \\frac{1}{5 −j + 1} IMCC(X_n(i, j)|X(i)),\\quad k ≥ j.$$"
   ]
  },
  {
   "cell_type": "code",
   "execution_count": 37,
   "id": "201fbe92",
   "metadata": {},
   "outputs": [],
   "source": [
    "# (16) Follow the instruction\n",
    "def Euler_IMCC(X):\n",
    "    IMCC = np.zeros((6,5))\n",
    "    for i in range(6):\n",
    "        for j in range(5):\n",
    "            for k in range(j,5):\n",
    "                IMCC[i,k] = 1/(6-j)*X[i,j]\n",
    "    return IMCC"
   ]
  },
  {
   "cell_type": "markdown",
   "id": "cc1ee485",
   "metadata": {},
   "source": [
    "$IMCC(\\tilde{X}_1(i, k)|X_1(i, j)):$"
   ]
  },
  {
   "cell_type": "code",
   "execution_count": 38,
   "id": "5ccd38cb",
   "metadata": {},
   "outputs": [
    {
     "data": {
      "text/plain": [
       "array([[0.02016793, 0.01727158, 0.02689783, 0.01936029, 0.03383239],\n",
       "       [0.02042171, 0.01708291, 0.02614667, 0.01894331, 0.03204968],\n",
       "       [0.01913312, 0.01642873, 0.02559028, 0.01918047, 0.0338443 ],\n",
       "       [0.02001707, 0.01668413, 0.02557824, 0.0179803 , 0.0312665 ],\n",
       "       [0.02135219, 0.01752084, 0.02711204, 0.01877345, 0.0301346 ],\n",
       "       [0.10708251, 0.08482322, 0.12205256, 0.07780969, 0.10207696]])"
      ]
     },
     "execution_count": 38,
     "metadata": {},
     "output_type": "execute_result"
    }
   ],
   "source": [
    "Euler_IMCC(Euler_IMCC1)"
   ]
  },
  {
   "cell_type": "markdown",
   "id": "f0ce5ec8",
   "metadata": {},
   "source": [
    "$IMCC(\\tilde{X}_2(i, k)|X_2(i, j)):$"
   ]
  },
  {
   "cell_type": "code",
   "execution_count": 39,
   "id": "7a7fbcf0",
   "metadata": {},
   "outputs": [
    {
     "data": {
      "text/plain": [
       "array([[0.07934928, 0.07333902, 0.12740439, 0.10078796, 0.19660875],\n",
       "       [0.081682  , 0.07436436, 0.11979765, 0.10148679, 0.19405976],\n",
       "       [0.07990829, 0.07072363, 0.12531938, 0.10060962, 0.19406844],\n",
       "       [0.08070722, 0.07392311, 0.12510372, 0.10311966, 0.19617826],\n",
       "       [0.07886085, 0.06900546, 0.11809178, 0.10103233, 0.21361261],\n",
       "       [0.28540192, 0.23294651, 0.34554281, 0.24521777, 0.38427236]])"
      ]
     },
     "execution_count": 39,
     "metadata": {},
     "output_type": "execute_result"
    }
   ],
   "source": [
    "Euler_IMCC(Euler_IMCC2)"
   ]
  },
  {
   "cell_type": "markdown",
   "id": "77e16f8f",
   "metadata": {},
   "source": [
    "Finally, the Euler allocation of IMCC is\n",
    "\n",
    "$$IMCC(\\tilde{X}_n(i, k)|X(i)) = \\sum^{k}_{j=1}IMCC(\\tilde{X}_n(i, k)|X_n(i, j)) $$\n",
    "\n",
    "17. Report $IMCC(\\tilde{X}_n(i, k)|X(i))$, $i = 1, . . . , 6$ and $k = 1, . . . , 5$."
   ]
  },
  {
   "cell_type": "code",
   "execution_count": 39,
   "id": "7bad2c0d",
   "metadata": {},
   "outputs": [],
   "source": [
    "# (17) \n",
    "def allocation(X):\n",
    "    new_IMCC = np.zeros((6,5))\n",
    "    for i in range(6):\n",
    "        s = 0\n",
    "        for j in range(5):\n",
    "            s += X[i,j]\n",
    "            new_IMCC[i,j] = s\n",
    "    return new_IMCC"
   ]
  },
  {
   "cell_type": "markdown",
   "id": "77609d7d",
   "metadata": {},
   "source": [
    "$IMCC(\\tilde{X}_1(i, k)|X(i)):$"
   ]
  },
  {
   "cell_type": "code",
   "execution_count": 41,
   "id": "d104b008",
   "metadata": {},
   "outputs": [
    {
     "data": {
      "text/plain": [
       "array([[0.10625681, 0.1904126 , 0.32367246, 0.41621327, 0.57835408],\n",
       "       [0.10757009, 0.1948961 , 0.33432495, 0.42798695, 0.5977668 ],\n",
       "       [0.09697216, 0.18058799, 0.31362563, 0.41227352, 0.5852871 ],\n",
       "       [0.10479894, 0.19127595, 0.32701216, 0.42057814, 0.59326539],\n",
       "       [0.10434982, 0.19178785, 0.32646955, 0.4188397 , 0.55958825],\n",
       "       [0.52534257, 0.93805291, 1.56758525, 1.96212579, 2.47700336]])"
      ]
     },
     "execution_count": 41,
     "metadata": {},
     "output_type": "execute_result"
    }
   ],
   "source": [
    "allocation(Euler_IMCC(Euler_IMCC1))"
   ]
  },
  {
   "cell_type": "markdown",
   "id": "0b074099",
   "metadata": {},
   "source": [
    "$IMCC(\\tilde{X}_2(i, k)|X(i)):$"
   ]
  },
  {
   "cell_type": "code",
   "execution_count": 40,
   "id": "9c396970",
   "metadata": {},
   "outputs": [
    {
     "data": {
      "text/plain": [
       "array([[0.02191752, 0.04110006, 0.07394017, 0.09884125, 0.14418891],\n",
       "       [0.02219134, 0.04068293, 0.07207839, 0.09636907, 0.1437448 ],\n",
       "       [0.02114371, 0.03919421, 0.0705347 , 0.09584647, 0.14633707],\n",
       "       [0.02205782, 0.04113601, 0.07211585, 0.09802864, 0.15030415],\n",
       "       [0.02103988, 0.03974005, 0.07190782, 0.09727102, 0.14577628],\n",
       "       [0.07434556, 0.13549348, 0.2289385 , 0.29170918, 0.3962929 ]])"
      ]
     },
     "execution_count": 40,
     "metadata": {},
     "output_type": "execute_result"
    }
   ],
   "source": [
    "allocation(Euler_IMCC(Euler_IMCC2))"
   ]
  },
  {
   "cell_type": "code",
   "execution_count": null,
   "id": "3b09db08",
   "metadata": {},
   "outputs": [],
   "source": []
  }
 ],
 "metadata": {
  "colab": {
   "provenance": []
  },
  "kernelspec": {
   "display_name": "Python 3",
   "language": "python",
   "name": "python3"
  },
  "language_info": {
   "codemirror_mode": {
    "name": "ipython",
    "version": 3
   },
   "file_extension": ".py",
   "mimetype": "text/x-python",
   "name": "python",
   "nbconvert_exporter": "python",
   "pygments_lexer": "ipython3",
   "version": "3.8.8"
  }
 },
 "nbformat": 4,
 "nbformat_minor": 5
}
