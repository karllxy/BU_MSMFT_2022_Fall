{
 "cells": [
  {
   "cell_type": "markdown",
   "id": "10c9ab68",
   "metadata": {},
   "source": [
    "## MF731 Homework2 Part 2\n",
    "### Edited by Xuyang Liu"
   ]
  },
  {
   "cell_type": "code",
   "execution_count": 67,
   "id": "5d0b4085",
   "metadata": {},
   "outputs": [],
   "source": [
    "import pandas as pd\n",
    "import numpy as np\n",
    "import matplotlib.pyplot as plt\n",
    "import math\n",
    "from scipy.stats import norm"
   ]
  },
  {
   "cell_type": "markdown",
   "id": "9fcc37fb",
   "metadata": {},
   "source": [
    "### 2. Time aggregated risk measures for a constant weight portfolio of equities."
   ]
  },
  {
   "cell_type": "code",
   "execution_count": 8,
   "id": "3a7f1586",
   "metadata": {},
   "outputs": [],
   "source": [
    "#(b)\n",
    "alpha = 0.99\n",
    "gamma = 30\n",
    "lamda = 0.94\n",
    "theta = 0.97\n",
    "N = 50000\n",
    "\n",
    "data = pd.read_csv('Prices.csv',index_col=0)\n",
    "logret = np.log(data/data.shift(1)).dropna()"
   ]
  },
  {
   "cell_type": "code",
   "execution_count": 13,
   "id": "8ed8c34a",
   "metadata": {},
   "outputs": [],
   "source": [
    "# for initial mu\n",
    "mulst = np.zeros([len(logret),4])\n",
    "for i in range(1,len(logret)):\n",
    "    mulst[i,:] = lamda * mulst[i-1,:] + (1-lamda) * logret.iloc[i,:]\n",
    "mu = mulst[-1]"
   ]
  },
  {
   "cell_type": "code",
   "execution_count": 16,
   "id": "aeefec77",
   "metadata": {},
   "outputs": [
    {
     "data": {
      "text/plain": [
       "array([-0.00044666,  0.00320015,  0.00423529,  0.00353126])"
      ]
     },
     "execution_count": 16,
     "metadata": {},
     "output_type": "execute_result"
    }
   ],
   "source": [
    "mu"
   ]
  },
  {
   "cell_type": "code",
   "execution_count": 116,
   "id": "3872a2d3",
   "metadata": {},
   "outputs": [],
   "source": [
    "# for the newest covariance matrix\n",
    "sigma = np.mat([[0,0,0,0],[0,0,0,0],[0,0,0,0],[0,0,0,0]])\n",
    "for i in range(1,len(logret)):\n",
    "    sigma = theta * sigma + (1-theta) * ( np.mat(logret.iloc[i,:].values)-np.mat(mulst[i-1,:]) ).T * ( np.mat(logret.iloc[i,:].values)-np.mat(mulst[i-1,:]) )"
   ]
  },
  {
   "cell_type": "code",
   "execution_count": 117,
   "id": "4907c4f0",
   "metadata": {},
   "outputs": [
    {
     "data": {
      "text/plain": [
       "matrix([[1.92425384e-03, 3.75255309e-04, 5.32993246e-04, 3.30030591e-05],\n",
       "        [3.75255309e-04, 2.61346684e-04, 1.87880003e-04, 4.64075474e-05],\n",
       "        [5.32993246e-04, 1.87880003e-04, 3.98542802e-04, 2.21414843e-05],\n",
       "        [3.30030591e-05, 4.64075474e-05, 2.21414843e-05, 2.78812901e-04]])"
      ]
     },
     "execution_count": 117,
     "metadata": {},
     "output_type": "execute_result"
    }
   ],
   "source": [
    "sigma"
   ]
  },
  {
   "cell_type": "code",
   "execution_count": 19,
   "id": "48be85a0",
   "metadata": {},
   "outputs": [],
   "source": [
    "# For constant weight vector\n",
    "w1 = 97.39 / (97.39 + 158.20 + 179.01 + 417.97)\n",
    "w2 = 158.20 / (97.39 + 158.20 + 179.01 + 417.97)\n",
    "w3 = 179.01 / (97.39 + 158.20 + 179.01 + 417.97)\n",
    "w4 = 417.97 / (97.39 + 158.20 + 179.01 + 417.97)\n",
    "\n",
    "w = np.array([w1,w2,w3,w4])"
   ]
  },
  {
   "cell_type": "code",
   "execution_count": 93,
   "id": "202e6205",
   "metadata": {},
   "outputs": [],
   "source": [
    "def estimate(X,mu,sigma):\n",
    "    new_mu = lamda * mu + (1-lamda) * X\n",
    "    new_sigma = theta * sigma + (1-theta) * (np.mat(X)-np.mat(mu)).T * (np.mat(X)-np.mat(mu))\n",
    "    return new_mu, new_sigma\n",
    "    "
   ]
  },
  {
   "cell_type": "code",
   "execution_count": 100,
   "id": "f182246d",
   "metadata": {},
   "outputs": [],
   "source": [
    "def simulation(N,K,init_mu,init_sigma):\n",
    "    losslst = []\n",
    "    for i in range(N):\n",
    "        #lossday = []\n",
    "        mu , sigma = init_mu , init_sigma\n",
    "        Xt = 0\n",
    "        for j in range(K):\n",
    "            X = np.random.multivariate_normal(mu,sigma)\n",
    "            Xt += X\n",
    "            mu,sigma = estimate(X,mu,sigma)\n",
    "            \n",
    "        loss = - np.dot((np.exp(Xt)-1),w)\n",
    "        losslst.append(loss * 1000000)\n",
    "            \n",
    "        \n",
    "        \n",
    "    VaR = pd.Series(losslst).quantile(alpha)\n",
    "    lossar = np.array(losslst)\n",
    "    ES = 1/(1-alpha)/N * sum(lossar[lossar>=VaR])\n",
    "    \n",
    "    return VaR, ES"
   ]
  },
  {
   "cell_type": "code",
   "execution_count": 124,
   "id": "95b34fe0",
   "metadata": {},
   "outputs": [],
   "source": [
    "onedayVaR,onedayES = simulation(N,1,mu,sigma)\n",
    "tendayVaR,tendayES = simulation(N,10,mu,sigma)\n",
    "multVaR, multES = 10**(0.5) * onedayVaR, 10**(0.5) *onedayES"
   ]
  },
  {
   "cell_type": "code",
   "execution_count": 125,
   "id": "637fb0e8",
   "metadata": {},
   "outputs": [
    {
     "name": "stdout",
     "output_type": "stream",
     "text": [
      "The one day VaR and ES are about:  28456.340712679   32581.691413407152\n",
      "The ten day VaR and ES are about:  92992.93940697976   110871.9060868864\n",
      "The Square root of time of the VaR and ES are about:  89986.85052584475   103032.35488711736\n"
     ]
    }
   ],
   "source": [
    "print(\"The one day VaR and ES are about: \",onedayVaR,\" \",onedayES)\n",
    "print(\"The ten day VaR and ES are about: \",tendayVaR,\" \",tendayES)\n",
    "print(\"The Square root of time of the VaR and ES are about: \",multVaR,\" \",multES)"
   ]
  }
 ],
 "metadata": {
  "kernelspec": {
   "display_name": "Python 3 (ipykernel)",
   "language": "python",
   "name": "python3"
  },
  "language_info": {
   "codemirror_mode": {
    "name": "ipython",
    "version": 3
   },
   "file_extension": ".py",
   "mimetype": "text/x-python",
   "name": "python",
   "nbconvert_exporter": "python",
   "pygments_lexer": "ipython3",
   "version": "3.8.8"
  }
 },
 "nbformat": 4,
 "nbformat_minor": 5
}
