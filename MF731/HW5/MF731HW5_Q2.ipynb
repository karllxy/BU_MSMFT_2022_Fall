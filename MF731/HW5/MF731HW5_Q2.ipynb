{
 "cells": [
  {
   "cell_type": "markdown",
   "id": "00ed662f",
   "metadata": {},
   "source": [
    "## 2.VaR with Unknown Parameters.\n",
    "### Edited by Xuyang Liu"
   ]
  },
  {
   "cell_type": "code",
   "execution_count": 1,
   "id": "31d88bbb",
   "metadata": {},
   "outputs": [],
   "source": [
    "import pandas as pd\n",
    "import numpy as np\n",
    "import matplotlib.pyplot as plt\n",
    "from  scipy.stats import norm , chi2"
   ]
  },
  {
   "cell_type": "code",
   "execution_count": 2,
   "id": "20ef834c",
   "metadata": {},
   "outputs": [],
   "source": [
    "Data = pd.read_excel('AAPL_Data.xlsx',index_col=0)\n",
    "Data.columns = ['AAPL']\n",
    "logret = np.log(Data/Data.shift(1)).dropna()"
   ]
  },
  {
   "cell_type": "code",
   "execution_count": 3,
   "id": "0145c4b9",
   "metadata": {},
   "outputs": [],
   "source": [
    "alpha = 0.97\n",
    "beta = 0.02\n",
    "M = 125000"
   ]
  },
  {
   "cell_type": "markdown",
   "id": "60877d75",
   "metadata": {},
   "source": [
    "#### (a) Estimate VaR when sigma is unknown"
   ]
  },
  {
   "cell_type": "code",
   "execution_count": 4,
   "id": "6fce2ffc",
   "metadata": {},
   "outputs": [],
   "source": [
    "# (1) For Empirical Distribution\n",
    "capital = 1000000\n",
    "Losslst = - capital * (np.exp(logret)-1)"
   ]
  },
  {
   "cell_type": "code",
   "execution_count": 5,
   "id": "7f3ef7ad",
   "metadata": {},
   "outputs": [
    {
     "data": {
      "text/plain": [
       "(AAPL    0.001341\n",
       " dtype: float64,\n",
       " AAPL    0.012974\n",
       " dtype: float64)"
      ]
     },
     "execution_count": 5,
     "metadata": {},
     "output_type": "execute_result"
    }
   ],
   "source": [
    "mu = logret.mean()\n",
    "sigma = (logret.var()*len(logret)/(len(logret)-1))**0.5\n",
    "mu, sigma"
   ]
  },
  {
   "cell_type": "code",
   "execution_count": 6,
   "id": "2c9040f3",
   "metadata": {},
   "outputs": [
    {
     "name": "stdout",
     "output_type": "stream",
     "text": [
      "the VaR using Empirical distribution is about:  24919.07770155716\n"
     ]
    }
   ],
   "source": [
    "VaR_EM = Losslst.quantile(alpha)\n",
    "print('the VaR using Empirical distribution is about: ',VaR_EM[0])"
   ]
  },
  {
   "cell_type": "code",
   "execution_count": 7,
   "id": "33a9609b",
   "metadata": {},
   "outputs": [
    {
     "name": "stdout",
     "output_type": "stream",
     "text": [
      "the VaR using theoretical formula is about:  22797.2651010363\n"
     ]
    }
   ],
   "source": [
    "# (2) For theoretical Formular\n",
    "VaR_TH = capital * (1-np.exp(mu+sigma * norm.ppf(1-alpha)))\n",
    "print('the VaR using theoretical formula is about: ',VaR_TH[0])"
   ]
  },
  {
   "cell_type": "code",
   "execution_count": 8,
   "id": "5413e1c1",
   "metadata": {},
   "outputs": [
    {
     "data": {
      "text/plain": [
       "(0.01208463620803254, 0.013998385618034391)"
      ]
     },
     "execution_count": 8,
     "metadata": {},
     "output_type": "execute_result"
    }
   ],
   "source": [
    "# (3) CI for this VaR_TH\n",
    "sigma_high = ((len(logret)-1)/chi2.ppf(0.5*beta, df=len(logret)-1))**0.5*sigma\n",
    "sigma_low = ((len(logret)-1)/chi2.ppf(1-0.5*beta, df=len(logret)-1))**0.5*sigma\n",
    "(sigma_low[0], sigma_high[0])"
   ]
  },
  {
   "cell_type": "code",
   "execution_count": 9,
   "id": "71f82cc3",
   "metadata": {},
   "outputs": [
    {
     "name": "stdout",
     "output_type": "stream",
     "text": [
      "The confidence interval for the theoretical VaR is ( 21160.661298385676 , 24677.530906176526 )\n"
     ]
    }
   ],
   "source": [
    "VaR_high = capital * (1 - np.exp(mu - sigma_high * norm.ppf(alpha)))\n",
    "VaR_low = capital * (1 - np.exp(mu - sigma_low * norm.ppf(alpha)))\n",
    "(VaR_low[0],VaR_high[0])\n",
    "print(\"The confidence interval for the theoretical VaR is (\",VaR_low[0],\",\",VaR_high[0],\")\")"
   ]
  },
  {
   "cell_type": "markdown",
   "id": "9c886cea",
   "metadata": {},
   "source": [
    "#### (a) Estimate VaR when mu and sigma are unknown"
   ]
  },
  {
   "cell_type": "code",
   "execution_count": 10,
   "id": "699b0357",
   "metadata": {},
   "outputs": [],
   "source": [
    "sim_sigma = (len(logret-1) / np.random.chisquare(df=len(logret-1),size=M))**0.5 * sigma[0]\n",
    "sim_mu = np.random.normal(loc=mu, scale=sim_sigma/np.sqrt(len(logret)))"
   ]
  },
  {
   "cell_type": "code",
   "execution_count": 11,
   "id": "4309cdc4",
   "metadata": {},
   "outputs": [
    {
     "name": "stdout",
     "output_type": "stream",
     "text": [
      "the VaR using simulation method is about:  22833.11620657048\n"
     ]
    }
   ],
   "source": [
    "sim_VaR_lst = capital*(1-np.exp(sim_mu+sim_sigma*norm.ppf(1-alpha)))\n",
    "sim_VaR = np.mean(sim_VaR_lst)\n",
    "print('the VaR using simulation method is about: ',sim_VaR)"
   ]
  },
  {
   "cell_type": "code",
   "execution_count": 12,
   "id": "9b341ceb",
   "metadata": {},
   "outputs": [],
   "source": [
    "# For CI and A,B\n",
    "A = np.quantile(sim_VaR_lst, 0.5*beta)\n",
    "B = np.quantile(sim_VaR_lst, 1-0.5*beta)"
   ]
  },
  {
   "cell_type": "code",
   "execution_count": 13,
   "id": "d41d12e7",
   "metadata": {},
   "outputs": [
    {
     "name": "stdout",
     "output_type": "stream",
     "text": [
      "The confidence interval (A, B) for the simulation VaR is ( 20740.153675507692 , 25121.482477054185 )\n"
     ]
    }
   ],
   "source": [
    "print(\"The confidence interval (A, B) for the simulation VaR is (\",A,\",\",B,\")\")"
   ]
  }
 ],
 "metadata": {
  "kernelspec": {
   "display_name": "Python 3 (ipykernel)",
   "language": "python",
   "name": "python3"
  },
  "language_info": {
   "codemirror_mode": {
    "name": "ipython",
    "version": 3
   },
   "file_extension": ".py",
   "mimetype": "text/x-python",
   "name": "python",
   "nbconvert_exporter": "python",
   "pygments_lexer": "ipython3",
   "version": "3.8.8"
  }
 },
 "nbformat": 4,
 "nbformat_minor": 5
}
