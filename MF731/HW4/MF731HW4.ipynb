{
 "cells": [
  {
   "cell_type": "markdown",
   "id": "d4b280e1",
   "metadata": {},
   "source": [
    "## MF731 Homework 4\n",
    "### Edited by Xuyang Liu"
   ]
  },
  {
   "cell_type": "code",
   "execution_count": 1,
   "id": "12443ac8",
   "metadata": {},
   "outputs": [],
   "source": [
    "import pandas as pd\n",
    "import numpy as np\n",
    "from scipy.stats import norm"
   ]
  },
  {
   "cell_type": "markdown",
   "id": "301d0447",
   "metadata": {},
   "source": [
    "### Stress Test for a Market-Cap Weighted Portfolio of Microsoft and Apple Stocks."
   ]
  },
  {
   "cell_type": "code",
   "execution_count": 2,
   "id": "91ba7e6a",
   "metadata": {},
   "outputs": [],
   "source": [
    "# pre-prepare the data\n",
    "data = pd.read_csv(\"MSFT_AAPL_Log_Returns.csv\",header=None,index_col=0)\n",
    "data.index.name=\"Date\"\n",
    "data = data.rename(columns={1: 'MSFT', 2: 'AAPL'})"
   ]
  },
  {
   "cell_type": "markdown",
   "id": "d998421d",
   "metadata": {},
   "source": [
    "##### (1) Estimate mu and sigma using EWMA"
   ]
  },
  {
   "cell_type": "code",
   "execution_count": 3,
   "id": "90767223",
   "metadata": {},
   "outputs": [],
   "source": [
    "lamda = 0.97\n",
    "theta = 0.97\n",
    "M = 100\n",
    "\n",
    "logret = data[M:]\n",
    "mu0 = data[:M].mean()\n",
    "sig0 = data[:M].cov()\n",
    "logmat = np.matrix(logret)\n",
    "\n",
    "# Start EWMA algorithem\n",
    "mu = np.matrix(mu0).T\n",
    "sig = np.matrix(sig0)\n",
    "for i in range(0,len(logret)):\n",
    "    sig = theta * sig + (1-theta)*(logmat[i].T-mu)*(logmat[i]-mu.T)\n",
    "    mu = lamda * mu + (1-lamda)*logmat[i].T"
   ]
  },
  {
   "cell_type": "code",
   "execution_count": 4,
   "id": "2fbd584e",
   "metadata": {},
   "outputs": [
    {
     "name": "stdout",
     "output_type": "stream",
     "text": [
      "the Mean is about:  [0.00125025 0.00106069]\n",
      "the Sigma is about:  [[1.29896289e-04 3.30063144e-05]\n",
      " [3.30063144e-05 1.51851733e-04]]\n"
     ]
    }
   ],
   "source": [
    "print(\"the Mean is about: \",mu.A1)\n",
    "print(\"the Sigma is about: \",sig)"
   ]
  },
  {
   "cell_type": "markdown",
   "id": "fa71015f",
   "metadata": {},
   "source": [
    "##### (2) Estimate VaR"
   ]
  },
  {
   "cell_type": "code",
   "execution_count": 5,
   "id": "0dcb8ce8",
   "metadata": {},
   "outputs": [
    {
     "data": {
      "text/plain": [
       "14383.846180380484"
      ]
     },
     "execution_count": 5,
     "metadata": {},
     "output_type": "execute_result"
    }
   ],
   "source": [
    "Mhat = 50000\n",
    "alpha = 0.95\n",
    "K = 10\n",
    "MSFT_cap = 448.77\n",
    "AAPL_cap = 575.11\n",
    "cap = 1000000\n",
    "\n",
    "w = np.matrix([MSFT_cap/(MSFT_cap + AAPL_cap),AAPL_cap/(MSFT_cap + AAPL_cap)]).T\n",
    "VaR1 = (-w.T * mu + np.sqrt(w.T*sig*w)*norm.ppf(alpha) ) * cap\n",
    "VaR1[0,0]"
   ]
  },
  {
   "cell_type": "code",
   "execution_count": 6,
   "id": "dc9e37a6",
   "metadata": {},
   "outputs": [
    {
     "data": {
      "text/plain": [
       "45485.71544351548"
      ]
     },
     "execution_count": 6,
     "metadata": {},
     "output_type": "execute_result"
    }
   ],
   "source": [
    "VaRK = K**0.5 * VaR1\n",
    "VaRK[0,0]"
   ]
  },
  {
   "cell_type": "code",
   "execution_count": 7,
   "id": "27b4d1a2",
   "metadata": {},
   "outputs": [
    {
     "data": {
      "text/plain": [
       "136457.14633054644"
      ]
     },
     "execution_count": 7,
     "metadata": {},
     "output_type": "execute_result"
    }
   ],
   "source": [
    "cap_change = 3 * VaRK\n",
    "cap_change[0,0]"
   ]
  },
  {
   "cell_type": "code",
   "execution_count": 8,
   "id": "2a54909e",
   "metadata": {},
   "outputs": [
    {
     "data": {
      "text/plain": [
       "matrix([[1.29896289e-04, 3.30063144e-05],\n",
       "        [3.30063144e-05, 1.51851733e-04]])"
      ]
     },
     "execution_count": 8,
     "metadata": {},
     "output_type": "execute_result"
    }
   ],
   "source": [
    "sig"
   ]
  },
  {
   "cell_type": "markdown",
   "id": "db4df761",
   "metadata": {},
   "source": [
    "##### (3) Shock the system by assuming a large negative return for Apple"
   ]
  },
  {
   "cell_type": "code",
   "execution_count": 9,
   "id": "55952e8f",
   "metadata": {},
   "outputs": [],
   "source": [
    "# from the sigma matrix, we can get correlation rho\n",
    "rho = ((sig[0,1] * sig[1,0])/ (sig[0,0] * sig[1,1]))**0.5\n",
    "# (i)\n",
    "x2 = mu[1,0] - 5 * sig[1,1]**0.5\n",
    "# (ii)\n",
    "mux1 = mu[0,0] + rho * sig[0,0]**0.5 / sig[1,1]**0.5 * (x2 - mu[1,0])\n",
    "varx1 = sig[0,0] * (1-rho**2)\n",
    "\n",
    "x1 = mux1 - 5 * varx1**0.5 "
   ]
  },
  {
   "cell_type": "code",
   "execution_count": 10,
   "id": "5a787640",
   "metadata": {},
   "outputs": [
    {
     "data": {
      "text/plain": [
       "(matrix([[ 1.38081456e-04, -5.07849498e-06],\n",
       "         [-5.07849498e-06,  2.61184981e-04]]),\n",
       " matrix([[ 0.0018523 ],\n",
       "         [-0.00078773]]))"
      ]
     },
     "execution_count": 10,
     "metadata": {},
     "output_type": "execute_result"
    }
   ],
   "source": [
    "# (iii)\n",
    "def update_EWMA(mu,sig,x1,x2):\n",
    "    new_sig = lamda*sig + (1-lamda)*(np.matrix([x1,x2]).T-mu)*(np.matrix([x1,x2])-mu.T)\n",
    "    new_mu = theta*mu + (1-theta)*np.matrix([x1,x2]).T\n",
    "    \n",
    "    return new_sig, new_mu\n",
    "\n",
    "newsig,newmu = update_EWMA(mu,sig,x1,x2)\n",
    "newsig,newmu"
   ]
  },
  {
   "cell_type": "code",
   "execution_count": 19,
   "id": "f58f9519",
   "metadata": {},
   "outputs": [],
   "source": [
    "def simulations(newmu,newsig,Mhat,K):  \n",
    "    loss_sim = []\n",
    "    for i in range(Mhat):\n",
    "        \n",
    "        #x1 = mux1 + varx1**0.5 * np.random.normal(0,1)\n",
    "        #sim_sig,sim_mu = update_EWMA(mu,sig,x1,x2)\n",
    "        \n",
    "        sim_mu = newmu\n",
    "        sim_sig = newsig\n",
    "        x1add = 0\n",
    "        x2add = 0\n",
    "        for i in range(K):\n",
    "            sim_x1,sim_x2 = np.random.multivariate_normal(sim_mu.A1, sim_sig)\n",
    "            sim_sig = lamda*sim_sig + (1-lamda)*(np.matrix([sim_x1,sim_x2]).T-sim_mu)*(np.matrix([sim_x1,sim_x2])-sim_mu.T)\n",
    "            sim_mu = theta*sim_mu + (1-theta)*np.matrix([sim_x1,sim_x2]).T\n",
    "            x1add += sim_x1\n",
    "            x2add += sim_x2\n",
    "        loss = -(w[0,0] * x1add + w[1,0]*x2add) * cap\n",
    "        loss_sim.append(loss)\n",
    "    \n",
    "    return loss_sim \n",
    "    "
   ]
  },
  {
   "cell_type": "code",
   "execution_count": 20,
   "id": "3f6095b5",
   "metadata": {},
   "outputs": [],
   "source": [
    "Loss = simulations(newmu,newsig,Mhat,K)"
   ]
  },
  {
   "cell_type": "code",
   "execution_count": 21,
   "id": "8bdfb1fe",
   "metadata": {},
   "outputs": [
    {
     "data": {
      "text/plain": [
       "(-3519.6145730098688, 56952.66617211786)"
      ]
     },
     "execution_count": 21,
     "metadata": {},
     "output_type": "execute_result"
    }
   ],
   "source": [
    "ave_kday_loss = np.mean(Loss)\n",
    "kday_var = np.quantile(Loss, alpha, interpolation=\"higher\")\n",
    "ave_kday_loss, kday_var"
   ]
  },
  {
   "cell_type": "code",
   "execution_count": 22,
   "id": "bd89e5c8",
   "metadata": {},
   "outputs": [
    {
     "data": {
      "text/plain": [
       "(8.984, 0.018000000000000002)"
      ]
     },
     "execution_count": 22,
     "metadata": {},
     "output_type": "execute_result"
    }
   ],
   "source": [
    "u1 = VaRK.A1[0]\n",
    "u2 = cap_change.A1[0]\n",
    "Loss = np.array(Loss)\n",
    "exceed_1 = len(Loss[Loss>u1])/len(Loss)*100\n",
    "exceed_2 = len(Loss[Loss>u2])/len(Loss)*100\n",
    "exceed_1, exceed_2"
   ]
  },
  {
   "cell_type": "code",
   "execution_count": null,
   "id": "8b315f89",
   "metadata": {},
   "outputs": [],
   "source": []
  }
 ],
 "metadata": {
  "kernelspec": {
   "display_name": "Python 3 (ipykernel)",
   "language": "python",
   "name": "python3"
  },
  "language_info": {
   "codemirror_mode": {
    "name": "ipython",
    "version": 3
   },
   "file_extension": ".py",
   "mimetype": "text/x-python",
   "name": "python",
   "nbconvert_exporter": "python",
   "pygments_lexer": "ipython3",
   "version": "3.8.8"
  }
 },
 "nbformat": 4,
 "nbformat_minor": 5
}
