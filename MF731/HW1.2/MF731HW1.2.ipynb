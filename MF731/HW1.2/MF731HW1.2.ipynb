{
 "cells": [
  {
   "cell_type": "markdown",
   "id": "d9fa2e07",
   "metadata": {},
   "source": [
    "## MF731 Homework 1 Part 2 \n",
    "### Edited by Xuyang Liu"
   ]
  },
  {
   "cell_type": "markdown",
   "id": "8e0a952d",
   "metadata": {},
   "source": [
    "#### 1. Loss Distributions for a Hedged Put Option"
   ]
  },
  {
   "cell_type": "code",
   "execution_count": 5,
   "id": "14131516",
   "metadata": {},
   "outputs": [],
   "source": [
    "# Problem 1 (b)\n",
    "import pandas as pd\n",
    "import numpy as np\n",
    "from scipy.stats import norm\n",
    "import matplotlib.pyplot as plt\n",
    "from scipy import stats"
   ]
  },
  {
   "cell_type": "code",
   "execution_count": 6,
   "id": "172e73f6",
   "metadata": {},
   "outputs": [],
   "source": [
    "mu = 0.16905\n",
    "sigma = 0.4907\n",
    "r = 0.0011888\n",
    "t = 0\n",
    "T = 0.291667\n",
    "delta = 10/252\n",
    "S0 = 152.51\n",
    "K = 170\n",
    "M = 100\n",
    "\n",
    "def PBS(St,t):\n",
    "    \n",
    "    d1 = 1/(sigma * ((T-t)**0.5)) * (np.log(St/K) + (r + 0.5 * sigma**2) * (T-t))\n",
    "    d2 = d1 - sigma * ((T-t)**0.5)\n",
    "    p = St * (norm.cdf(d1)-1) + K * np.exp(-r * (T-t)) * (1-norm.cdf(d2))\n",
    "    return p\n",
    "\n",
    "def BS(St,t):\n",
    "    d1 = 1/(sigma * ((T-t)**0.5)) * (np.log(St/K) + (r + 0.5 * sigma**2) * (T-t))\n",
    "    d2 = d1 - sigma * (T-t)**0.5\n",
    "    p = St * (norm.cdf(d1)-1) + K * np.exp(-r * (T-t)) * (1-norm.cdf(d2))\n",
    "    lamda = norm.cdf(d1) - 1\n",
    "    gamma = norm.pdf(d1)/(St * sigma * (T-t)**0.5)\n",
    "    theta = -sigma/(2 * (T-t)**0.5) * St * norm.pdf(d1) + K * r * np.exp(-r * (T-t)) * (1-norm.cdf(d2))\n",
    "    return p,lamda,gamma,theta\n",
    "\n",
    "\n",
    "pbs,lamda,gamma,theta = BS(S0,t)\n",
    "\n",
    "\n",
    "\n",
    "def simulation(N,types):\n",
    "    \n",
    "    rlist = []\n",
    "\n",
    "    for i in range(N):\n",
    "        X = np.random.normal((mu-0.5*sigma**2) * delta,(sigma**2) * delta)\n",
    "        St = S0 * np.exp(X)\n",
    "        if types == 'Full':\n",
    "            Full_loss = -M * (lamda*(St - S0) - (PBS(St,t+delta)-PBS(S0,t)) )\n",
    "            rlist.append(Full_loss)\n",
    "        elif types == \"Linear\":\n",
    "            linear_loss = M * theta * delta\n",
    "            rlist.append(linear_loss)\n",
    "        elif types == \"Second\":\n",
    "            second_loss = M * (theta * delta + 0.5 * S0 * S0 * gamma * X**2)\n",
    "            rlist.append(second_loss)\n",
    "    return rlist\n",
    "   \n",
    "\n"
   ]
  },
  {
   "cell_type": "code",
   "execution_count": 8,
   "id": "776a0ad3",
   "metadata": {},
   "outputs": [
    {
     "data": {
      "text/plain": [
       "(27.098959883059933, -0.6086744776753927)"
      ]
     },
     "execution_count": 8,
     "metadata": {},
     "output_type": "execute_result"
    }
   ],
   "source": [
    "pbs,lamda"
   ]
  },
  {
   "cell_type": "code",
   "execution_count": 3,
   "id": "7f4fca04",
   "metadata": {},
   "outputs": [
    {
     "data": {
      "image/png": "[encoded data removed]",
      "text/plain": [
       "<Figure size 720x360 with 1 Axes>"
      ]
     },
     "metadata": {
      "needs_background": "light"
     },
     "output_type": "display_data"
    }
   ],
   "source": [
    "r1 = simulation(100000,\"Full\")\n",
    "#plt.subplot(222)\n",
    "#hist, bin_edges = np.histogram(r)\n",
    "#plt.plot(hist)\n",
    "plt.figure(figsize=(10,5))\n",
    "plt.title('PDF of Full Loss')\n",
    "plt.hist(r1,bins=100,density=True)\n",
    "plt.show()"
   ]
  },
  {
   "cell_type": "code",
   "execution_count": 4,
   "id": "b83de44f",
   "metadata": {},
   "outputs": [
    {
     "data": {
      "image/png": "[encoded data removed]",
      "text/plain": [
       "<Figure size 720x360 with 1 Axes>"
      ]
     },
     "metadata": {
      "needs_background": "light"
     },
     "output_type": "display_data"
    }
   ],
   "source": [
    "r2 = simulation(10000,\"Linear\")\n",
    "plt.figure(figsize=(10,5))\n",
    "plt.title('PDF of Linearized Order')\n",
    "plt.hist(r2,bins=100,density=True)\n",
    "plt.show()"
   ]
  },
  {
   "cell_type": "code",
   "execution_count": 5,
   "id": "0fc385ad",
   "metadata": {},
   "outputs": [
    {
     "data": {
      "image/png": "[encoded data removed]",
      "text/plain": [
       "<Figure size 720x360 with 1 Axes>"
      ]
     },
     "metadata": {
      "needs_background": "light"
     },
     "output_type": "display_data"
    }
   ],
   "source": [
    "r3 = simulation(100000,\"Second\")\n",
    "plt.figure(figsize=(10,5))\n",
    "plt.title('PDF of Second Order')\n",
    "plt.hist(r3,bins=100,density=True)\n",
    "plt.show()"
   ]
  },
  {
   "cell_type": "markdown",
   "id": "ac8d5cda",
   "metadata": {},
   "source": [
    "From the plot we can see that lienar one is a constant, while the Full and the second one are really similar."
   ]
  }
 ],
 "metadata": {
  "kernelspec": {
   "display_name": "Python 3 (ipykernel)",
   "language": "python",
   "name": "python3"
  },
  "language_info": {
   "codemirror_mode": {
    "name": "ipython",
    "version": 3
   },
   "file_extension": ".py",
   "mimetype": "text/x-python",
   "name": "python",
   "nbconvert_exporter": "python",
   "pygments_lexer": "ipython3",
   "version": "3.8.8"
  }
 },
 "nbformat": 4,
 "nbformat_minor": 5
}
